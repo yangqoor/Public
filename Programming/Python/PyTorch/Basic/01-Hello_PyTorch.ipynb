{
 "cells": [
  {
   "cell_type": "markdown",
   "metadata": {},
   "source": [
    "Tensors 类似于 NumPy 的 ndarrays ，同时 Tensors 可以使用 GPU 进行计算。下面开始学习torch。"
   ]
  },
  {
   "cell_type": "markdown",
   "metadata": {},
   "source": [
    "# PyTorch中的Tensors"
   ]
  },
  {
   "cell_type": "markdown",
   "metadata": {},
   "source": [
    "## 构造Tensors"
   ]
  },
  {
   "cell_type": "code",
   "execution_count": 1,
   "metadata": {},
   "outputs": [],
   "source": [
    "from __future__ import print_function\n",
    "import torch"
   ]
  },
  {
   "cell_type": "code",
   "execution_count": 2,
   "metadata": {},
   "outputs": [
    {
     "name": "stdout",
     "output_type": "stream",
     "text": [
      "<module 'torch' from '/opt/anaconda3/envs/py37_torch/lib/python3.7/site-packages/torch/__init__.py'>\n"
     ]
    }
   ],
   "source": [
    "# 验证安装\n",
    "print(torch)"
   ]
  },
  {
   "cell_type": "markdown",
   "metadata": {},
   "source": [
    "构造一个5x3矩阵，不初始化。 "
   ]
  },
  {
   "cell_type": "code",
   "execution_count": 3,
   "metadata": {},
   "outputs": [
    {
     "name": "stdout",
     "output_type": "stream",
     "text": [
      "tensor([[ 0.0000e+00,  0.0000e+00,  0.0000e+00],\n",
      "        [ 0.0000e+00, -2.5315e+22, -1.1931e-37],\n",
      "        [ 0.0000e+00,  0.0000e+00,  0.0000e+00],\n",
      "        [ 0.0000e+00, -4.3902e+24,  3.5028e+22],\n",
      "        [ 0.0000e+00,  0.0000e+00,  0.0000e+00]])\n"
     ]
    }
   ],
   "source": [
    "x = torch.empty(5, 3)\n",
    "print(x)"
   ]
  },
  {
   "cell_type": "markdown",
   "metadata": {},
   "source": [
    "构造一个随机初始化的矩阵："
   ]
  },
  {
   "cell_type": "code",
   "execution_count": 4,
   "metadata": {},
   "outputs": [
    {
     "name": "stdout",
     "output_type": "stream",
     "text": [
      "tensor([[0.6001, 0.5671, 0.9150],\n",
      "        [0.1645, 0.7707, 0.9551],\n",
      "        [0.0138, 0.6380, 0.1439],\n",
      "        [0.4128, 0.9922, 0.4738],\n",
      "        [0.5030, 0.3991, 0.0636]])\n"
     ]
    }
   ],
   "source": [
    "x = torch.rand(5, 3)\n",
    "print(x)"
   ]
  },
  {
   "cell_type": "markdown",
   "metadata": {},
   "source": [
    "构造一个矩阵全为 0，而且数据类型是 long."
   ]
  },
  {
   "cell_type": "code",
   "execution_count": 5,
   "metadata": {},
   "outputs": [
    {
     "name": "stdout",
     "output_type": "stream",
     "text": [
      "tensor([[0, 0, 0],\n",
      "        [0, 0, 0],\n",
      "        [0, 0, 0],\n",
      "        [0, 0, 0],\n",
      "        [0, 0, 0]])\n"
     ]
    }
   ],
   "source": [
    "x = torch.zeros(5, 3, dtype=torch.long)\n",
    "print(x)"
   ]
  },
  {
   "cell_type": "markdown",
   "metadata": {},
   "source": [
    "构造一个张量，直接使用数据："
   ]
  },
  {
   "cell_type": "code",
   "execution_count": 6,
   "metadata": {},
   "outputs": [
    {
     "name": "stdout",
     "output_type": "stream",
     "text": [
      "tensor([5.5000, 3.0000])\n"
     ]
    }
   ],
   "source": [
    "x = torch.tensor([5.5, 3]) \n",
    "print(x)"
   ]
  },
  {
   "cell_type": "markdown",
   "metadata": {},
   "source": [
    "创建一个 tensor 基于已经存在的 tensor。"
   ]
  },
  {
   "cell_type": "code",
   "execution_count": 7,
   "metadata": {},
   "outputs": [
    {
     "name": "stdout",
     "output_type": "stream",
     "text": [
      "tensor([[1., 1., 1.],\n",
      "        [1., 1., 1.],\n",
      "        [1., 1., 1.],\n",
      "        [1., 1., 1.],\n",
      "        [1., 1., 1.]], dtype=torch.float64)\n",
      "tensor([[ 0.9959,  1.0573,  1.0797],\n",
      "        [ 1.1140,  0.0838,  1.4446],\n",
      "        [-1.3747, -1.8302,  0.0505],\n",
      "        [-0.3879,  0.9535, -0.4932],\n",
      "        [ 0.2444, -0.9269,  2.2756]])\n",
      "torch.Size([5, 3])\n"
     ]
    }
   ],
   "source": [
    "x = x.new_ones(5, 3, dtype=torch.double) \n",
    "# new_* methods take in sizes \n",
    "print(x) \n",
    "\n",
    "x = torch.randn_like(x, dtype=torch.float) \n",
    "# override dtype! \n",
    "print(x) \n",
    "# result has the same size\n",
    "print(x.size())"
   ]
  },
  {
   "cell_type": "markdown",
   "metadata": {},
   "source": [
    ">注意 torch.Size 是一个元组，所以它支持左右的元组操作。"
   ]
  },
  {
   "cell_type": "markdown",
   "metadata": {},
   "source": [
    "## Tensors运算"
   ]
  },
  {
   "cell_type": "markdown",
   "metadata": {},
   "source": [
    "加法"
   ]
  },
  {
   "cell_type": "code",
   "execution_count": 8,
   "metadata": {},
   "outputs": [
    {
     "name": "stdout",
     "output_type": "stream",
     "text": [
      "tensor([[ 1.3746,  1.4511,  2.0600],\n",
      "        [ 1.8730,  0.2984,  2.1123],\n",
      "        [-0.6829, -1.4472,  0.8868],\n",
      "        [ 0.5287,  1.0136, -0.0778],\n",
      "        [ 1.1283, -0.8318,  2.7502]])\n",
      "tensor([[ 1.3746,  1.4511,  2.0600],\n",
      "        [ 1.8730,  0.2984,  2.1123],\n",
      "        [-0.6829, -1.4472,  0.8868],\n",
      "        [ 0.5287,  1.0136, -0.0778],\n",
      "        [ 1.1283, -0.8318,  2.7502]])\n",
      "tensor([[ 1.3746,  1.4511,  2.0600],\n",
      "        [ 1.8730,  0.2984,  2.1123],\n",
      "        [-0.6829, -1.4472,  0.8868],\n",
      "        [ 0.5287,  1.0136, -0.0778],\n",
      "        [ 1.1283, -0.8318,  2.7502]])\n",
      "tensor([[ 1.3746,  1.4511,  2.0600],\n",
      "        [ 1.8730,  0.2984,  2.1123],\n",
      "        [-0.6829, -1.4472,  0.8868],\n",
      "        [ 0.5287,  1.0136, -0.0778],\n",
      "        [ 1.1283, -0.8318,  2.7502]])\n"
     ]
    }
   ],
   "source": [
    "y = torch.rand(5,3)\n",
    "# 加法: 方式 1\n",
    "print(x + y)\n",
    "# 加法: 方式 2\n",
    "print(torch.add(x, y))\n",
    "# 加法: 提供一个输出 tensor 作为参数\n",
    "result = torch.empty(5, 3) \n",
    "torch.add(x, y, out=result) \n",
    "print(result)\n",
    "# 加法: in-place  \n",
    "# adds x to y \n",
    "y.add_(x) \n",
    "print(y)\n"
   ]
  },
  {
   "cell_type": "markdown",
   "metadata": {},
   "source": [
    ">注意 任何使张量会发生变化的操作都有一个前缀 ‘’。例如：x.copy(y), x.t_(), 将会改变 x."
   ]
  },
  {
   "cell_type": "markdown",
   "metadata": {},
   "source": [
    "## Torch切片"
   ]
  },
  {
   "cell_type": "markdown",
   "metadata": {},
   "source": [
    "可以使用标准的 NumPy 类似的索引操作"
   ]
  },
  {
   "cell_type": "code",
   "execution_count": 9,
   "metadata": {},
   "outputs": [
    {
     "name": "stdout",
     "output_type": "stream",
     "text": [
      "tensor([ 1.0573,  0.0838, -1.8302,  0.9535, -0.9269])\n"
     ]
    }
   ],
   "source": [
    "print(x[:,1])"
   ]
  },
  {
   "cell_type": "code",
   "execution_count": 10,
   "metadata": {},
   "outputs": [
    {
     "name": "stdout",
     "output_type": "stream",
     "text": [
      "torch.Size([4, 4]) torch.Size([16]) torch.Size([2, 8])\n"
     ]
    }
   ],
   "source": [
    "x = torch.randn(4, 4) \n",
    "y = x.view(16) \n",
    "z = x.view(-1, 8) \n",
    "# the size -1 is inferred from other dimensions \n",
    "print(x.size(), y.size(), z.size())"
   ]
  },
  {
   "cell_type": "markdown",
   "metadata": {},
   "source": [
    "如果你有一个元素 tensor ，使用 .item() 来获得这个 value 。\n",
    ">注：必須是單元素"
   ]
  },
  {
   "cell_type": "code",
   "execution_count": 13,
   "metadata": {},
   "outputs": [
    {
     "name": "stdout",
     "output_type": "stream",
     "text": [
      "tensor([1.2333])\n",
      "1.233268141746521\n"
     ]
    }
   ],
   "source": [
    "x = torch.randn(1) \n",
    "print(x) \n",
    "print(x.item())"
   ]
  }
 ],
 "metadata": {
  "kernelspec": {
   "display_name": "Python 3.7.13 ('py37_torch')",
   "language": "python",
   "name": "python3"
  },
  "language_info": {
   "codemirror_mode": {
    "name": "ipython",
    "version": 3
   },
   "file_extension": ".py",
   "mimetype": "text/x-python",
   "name": "python",
   "nbconvert_exporter": "python",
   "pygments_lexer": "ipython3",
   "version": "3.7.13"
  },
  "orig_nbformat": 4,
  "vscode": {
   "interpreter": {
    "hash": "2de5ca97152d87573eb644162d2e955b4c83b6d151d2d104f234fd4219f1a647"
   }
  }
 },
 "nbformat": 4,
 "nbformat_minor": 2
}
