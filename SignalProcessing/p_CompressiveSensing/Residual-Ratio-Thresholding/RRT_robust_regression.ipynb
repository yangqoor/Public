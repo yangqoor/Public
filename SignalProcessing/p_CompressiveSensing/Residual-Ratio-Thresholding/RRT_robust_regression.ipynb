{
 "cells": [
  {
   "cell_type": "markdown",
   "metadata": {},
   "source": [
    "# Problem Statement\n",
    "\n",
    "Consider a  linear regression model $${\\bf y}={\\bf X}\\boldsymbol{\\beta}+{\\bf w}+{\\bf g}_{out}$$ where ${\\bf X} \\in \\mathbb{R}^{n\\times p} $ is a known design matrix and $\\boldsymbol{\\beta} \\in \\mathbb{R}^{p\\times 1}$ is an unknown sparse vector. ${\\bf w} \\in \\mathbb{R}^{n\\times 1}$ is an inlier noise vector (for theoretical purposes only)  with each entries $\\mathcal{N}(0,\\sigma^2)$ distributed. Outlier ${\\bf g}_{out}\\in \\mathbb{R}^n$ is an outlier which is sparse, however, the value of $\\|{\\bf g}_{out}\\|_{\\infty}$ can be extremely high. The outlier support $\\mathcal{S}=\\{k:{\\bf g}_{out}[k] \\neq 0\\}$ has cadinality $k_g=cardinality(\\mathcal{S})\\ll n$. We consider a low dimnesional scenario where number of samples $n$ is much higher than the number of features $p$. \n",
    "\n",
    "The problem we address here is the estimation of $\\boldsymbol{\\beta}$ when outlier sparsity $k_g$ and $\\sigma^2$ are both unknown. Under these constraints, it is difficult to estimate $\\boldsymbol{\\beta}$ and $ \\mathcal{S}$ with finite sample guarantees.  Most (not all) popular sparse recovery algorithms including GARD, BPRR,BSRR,AROSI  etc. can deliver estimation  with theoretical  guarantees require $\\textit{a priori}$ knowledge of $k_g$ and/or inlier noise variance $\\sigma^2$. Algorithms that does not require such a priori information are LAD, M-estimation etc.  \n",
    "\n",
    "In a recent article (https://ieeexplore.ieee.org/document/8543649 in IEEE TSP) we proposed RRT to operate GARD without requiring $\\textit{a priori}$ knowledge of $k_g$ and/or $\\sigma^2$.\n",
    "Here, we illustrate  how to use RRT in this problem setting. \n"
   ]
  },
  {
   "cell_type": "markdown",
   "metadata": {},
   "source": [
    "# Concept  of RRT\n",
    "\n",
    "Suppose we are given an ordered sequence of outlier support estimates $\\mathcal{S}_1,\\mathcal{S}_2...\\mathcal{S}_{k_{max}}$ such that  a $card(\\mathcal{S}_k)=k$ and $\\mathcal{S}_k\\subset \\mathcal{S}_{k+1}$.  Corresponding to each support $\\mathcal{S}_k$, one can compute the corresponding least squares residuals as ${\\bf R}^k=({\\bf I}_{n}-{\\bf P}(\\mathcal{S}_k)){\\bf Y}$, where ${\\bf P}(\\mathcal{S}_k)$ is the projection onto the subspace spanned by the columns in $[{\\bf X},{\\bf I}_n[:,\\mathcal{S}_k]]$.  ${\\bf I}_n$ is the $n \\times n$ identity matrix.  The corresponding residual ratios are defined as $$RR(k)=\\dfrac{\\|{\\bf R}^k\\|_2}{\\|{\\bf R}^{k-1}\\|_2}$$. \n",
    "\n",
    "This statistic satisfies some interesting properties. For starters, $$0\\leq RR(k)\\leq 1$$\n",
    "\n",
    "Under appropriate conditions on the matrix ${\\bf X}$, SNR and outlier sparsity $k_g$, many algorithms can generate support estimate sequences that satisfy $\\mathcal{S}_{k_g}=\\mathcal{S}$, the true unknown support of ${\\bf g}_{out}$. If those conditions are true then \n",
    "\n",
    "$$1). \\ \\ RR(k_g)\\rightarrow 0  \\ \\text{as} \\ \\sigma^2\\rightarrow 0$$.  \n",
    "\n",
    "$$2). \\ \\ \\mathbb{P}(RR(k)>\\Gamma_{RRT}^{\\alpha}(k),\\ \\text{for all} \\ k=k_g+1,....k_{max})>1-\\alpha$$\n",
    "\n",
    "where $$\\Gamma_{RRT}^{\\alpha}(k)=\\sqrt{F_{\\dfrac{n-p-k}{2},\\dfrac{1}{2}}^{-1}\\left(\\dfrac{\\alpha}{(n-k+1)kmax}\\right)}$$\n",
    "is a sequence of RRT thresholds. $F_{a,b}(x)$ is the CDF of a Beta random variable with parameters $a$ and $b$ and $F^{-1}$ is the inverse function of $F$.  \n",
    "\n",
    "Properties 1 and 2 of $RR(k)$ means that the RRT estimate of outlier sparsity given by $$k_{RRT}=\\max\\{k:RR(k)\\leq \\Gamma_{RRT}^{\\alpha}(k)\\}$$ will be equal to true unknown sparsity $k_g$ and $\\mathcal{S}_{k_{RRT}}$ will be equal to the true unknown outlier support $\\mathcal{S}$ at high enough SNR. \n",
    "\n",
    "\n"
   ]
  },
  {
   "cell_type": "markdown",
   "metadata": {},
   "source": [
    "# Usage\n",
    "In codes, we used (nfeatures=p,outlier_sparsity=$k_g$,nsamples=n)\n",
    "\n",
    "${\\bf Given}$:  Y and X. We assume that X has unit $l_2$ norm columns. \n",
    "\n",
    "${\\bf Step\\  1\\ :}$ robust=robust_regression() \n",
    "\n",
    "${\\bf Step \\ 2\\ :}$ estimate_support_dict=robust.compute_signal_and_outlier_support(X=X, Y=Y,alpha_list=[0.1])\n",
    "\n",
    "${\\bf Inputs: }$ alpha_list=[$\\alpha_1$,$\\alpha_2$,...] the set of RRT thresholds alpha for which the estimates of $\\boldsymbol{\n",
    "\\beta}$ and outlier support $\\mathcal{S}$ is to be computed. \n",
    "\n",
    "${\\bf Outputs:}$  estimate_support_dict is a dictionary with keys $\\alpha$ and values another dictionary dict. dict['outlier_support_estimate'] and dict['signal_estimate'] give the  estimates of $\\mathcal{S}$ and $\\boldsymbol{\\beta}$ corresponding to the RRT threshold $\\alpha$."
   ]
  },
  {
   "cell_type": "markdown",
   "metadata": {},
   "source": [
    "# Other utility functions\n",
    "\n",
    "    1). X, Y, Beta_true, outlier_support_true, outlier,inlier_noisevar=robust.generate_random_example(nsamples=100, nfeatures=10, outlier_sparsity=10, SNR_db=10,OIR_db=20)    \n",
    "This function generates a linear regression model using Gaussian matriX  which is further normalized to have $l_2$ columns. The entries of beta_true are randomly assigned $\\pm1$.  Gaussian inlier noise of noise variance determined by the required SNR. Outlier vector is sparse with outlier_sparsity non zero entries randomly selected from $\\{1,2,\\dotsc,n\\}$. The non zero entries are randomly assigned $\\pm 1$ and magnitude $g$. Inlier noise variance $\\sigma^2$  and outlier magnitude $g$ are selected using the user supplied signal and noise ratio (SNR)\n",
    "$$SNR=\\frac{\\|{\\bf X}\\boldsymbol{\\beta}\\|_2^2}{n\\sigma^2}$$\n",
    "and user supplied outlier to inlier ratio (OIR)\n",
    "$$OIR=\\frac{\\|{\\bf g}_{out}\\|_2^2}{n\\sigma^2}$$\n",
    "These values are supplied in DB scale. \n",
    "\n",
    "\n",
    "\n",
    "    2). Beta_LS=robust.generate_LS_estimate_and_residual(X=X, Y=Y)[0]\n",
    "                                                \n",
    "This function computes the plain old LS estimate with outlier contaminated $Y$. With Y=Y-outlier. we can compute the LS estimate with outlier free $Y$. These two are the good baselines for robust regression. LS estimate with outlier contaminated $Y$ is the \"worst\" performance in regression models and oracle aided LS estimate with outlier free $Y$ is the \"best\" performance in regression models. \n",
    "\n",
    "    3)Beta_gard,outlier_support_gard=robust.GARD_prior_outlier_sparsity(X=X,Y=Y,outlier_sparsity=outlier_sparsity)\n",
    "This function is the outlier sparsity aware  GARD operation. When provided with an outlier sparsity level, this compute the corresponding signal estimate and outlier support estimate. \n",
    "\n",
    "    4). support_error,l2_error=robust.compute_error(outlier_support_true,outlier_support_estimate, \n",
    "                              Beta_true, Beta_estimate)\n",
    "This function compute the support error between true and estimated outlier support (o if same else 1) and $l_2$ error between true and estimated values of $\\boldsymbol{\\beta}$.\n"
   ]
  },
  {
   "cell_type": "markdown",
   "metadata": {},
   "source": [
    "###  Example: Generate a robust regression problem\n"
   ]
  },
  {
   "cell_type": "code",
   "execution_count": 1,
   "metadata": {},
   "outputs": [],
   "source": [
    "import numpy as np\n",
    "import matplotlib.pyplot as plt\n",
    "import os,sys\n",
    "from codes.robust_regression import robust_regression\n"
   ]
  },
  {
   "cell_type": "code",
   "execution_count": 2,
   "metadata": {},
   "outputs": [
    {
     "name": "stdout",
     "output_type": "stream",
     "text": [
      "Unknown sparse vector Beta is\n",
      "[ 1. -1.  1.  1.  1.  1.  1. -1. -1.  1.]\n",
      "Support of outlier is\n",
      "[37, 30, 49, 66, 72, 15, 53, 91, 97, 52]\n",
      "Outlier\n",
      "[ 0.          0.          0.          0.          0.          0.\n",
      "  0.          0.          0.          0.          0.          0.\n",
      "  0.          0.          0.          3.16227766  0.          0.\n",
      "  0.          0.          0.          0.          0.          0.\n",
      "  0.          0.          0.          0.          0.          0.\n",
      " -3.16227766  0.          0.          0.          0.          0.\n",
      "  0.         -3.16227766  0.          0.          0.          0.\n",
      "  0.          0.          0.          0.          0.          0.\n",
      "  0.          3.16227766  0.          0.          3.16227766 -3.16227766\n",
      "  0.          0.          0.          0.          0.          0.\n",
      "  0.          0.          0.          0.          0.          0.\n",
      "  3.16227766  0.          0.          0.          0.          0.\n",
      " -3.16227766  0.          0.          0.          0.          0.\n",
      "  0.          0.          0.          0.          0.          0.\n",
      "  0.          0.          0.          0.          0.          0.\n",
      "  0.         -3.16227766  0.          0.          0.          0.\n",
      "  0.          3.16227766  0.          0.        ]\n",
      "Inlier noise_variance:0.01\n"
     ]
    }
   ],
   "source": [
    "robust=robust_regression();\n",
    "X, Y, Beta_true, outlier_support_true, outlier,inlier_noisevar=robust.generate_random_example(nsamples=100, nfeatures=10, \n",
    "                                                                                    outlier_sparsity=10, SNR_db=10,OIR_db=20)\n",
    "print('Unknown sparse vector Beta is')\n",
    "print(Beta_true.flatten())\n",
    "print('Support of outlier is')\n",
    "print(outlier_support_true)\n",
    "print('Outlier')\n",
    "print(np.squeeze(outlier))\n",
    "print('Inlier noise_variance:{}'.format(inlier_noisevar))"
   ]
  },
  {
   "cell_type": "code",
   "execution_count": 3,
   "metadata": {},
   "outputs": [
    {
     "name": "stdout",
     "output_type": "stream",
     "text": [
      "Plain LS estimate with outliers\n",
      "[ 0.55122481 -1.23378801  1.31863397  2.09450097  2.47650606  2.39962176\n",
      "  0.9912589  -0.08320826 -2.96099139  1.40953873]\n",
      "L2 error for plain LS  estimate=3.247817714258446\n",
      "Plain LS estimate without the outliers\n",
      "[ 1.13131048 -1.08234183  1.01059762  1.11019088  0.81406848  0.88360633\n",
      "  1.19064045 -1.01312945 -0.82156143  1.10088089]\n",
      "L2 error for plain LS  estimate when outliers are absent=0.4036439211997481\n",
      "GARD estimate when outlier sparsity is a priori given\n",
      "[ 1.12207082 -0.98818944  1.00007066  1.04689996  0.80002825  0.91448909\n",
      "  1.1992527  -1.00538332 -0.89403163  1.11495892]\n",
      "L2 error for estimate produced  by sparsity aware GARD=0.3587710546720715\n"
     ]
    }
   ],
   "source": [
    "# Baselines\n",
    "print('Plain LS estimate with outliers')\n",
    "Beta_LS=robust.generate_LS_estimate_and_residual(X=X, Y=Y)[0]\n",
    "print(np.squeeze(Beta_LS))\n",
    "l2_error=robust.compute_error(outlier_support_true=outlier_support_true, outlier_support_estimate=[], \n",
    "                              Beta_true=Beta_true, Beta_estimate=Beta_LS)[1]\n",
    "print('L2 error for plain LS  estimate={}'.format(l2_error))\n",
    "\n",
    "print('Plain LS estimate without the outliers')\n",
    "Beta_LS=robust.generate_LS_estimate_and_residual(X=X, Y=Y-outlier)[0]\n",
    "print(np.squeeze(Beta_LS))\n",
    "l2_error=robust.compute_error(outlier_support_true=outlier_support_true, outlier_support_estimate=outlier_support_true, \n",
    "                              Beta_true=Beta_true, Beta_estimate=Beta_LS)[1]\n",
    "print('L2 error for plain LS  estimate when outliers are absent={}'.format(l2_error))\n",
    "\n",
    "print('GARD estimate when outlier sparsity is a priori given')\n",
    "Beta_gard,outlier_support_gard=robust.GARD_prior_outlier_sparsity(X=X,Y=Y,outlier_sparsity=len(outlier_support_true))\n",
    "print(np.squeeze(Beta_gard))\n",
    "l2_error=robust.compute_error(outlier_support_true=outlier_support_true, outlier_support_estimate=outlier_support_gard, \n",
    "                              Beta_true=Beta_true, Beta_estimate=Beta_gard)[1]\n",
    "print('L2 error for estimate produced  by sparsity aware GARD={}'.format(l2_error))\n",
    "\n"
   ]
  },
  {
   "cell_type": "markdown",
   "metadata": {},
   "source": [
    "### Example: RRT estimation\n",
    "As one can see that the error of the estimate produced by RRT+GARD is closer to the error in LS estimate without outliers and GARD  a priori provided with outlier sparsity. That is, RRT-GARD produce outlier robust estimates of $\\boldsymbol{\\beta}$ without knowing anything about inlier noise variance or outlier sparsity level."
   ]
  },
  {
   "cell_type": "code",
   "execution_count": 4,
   "metadata": {},
   "outputs": [
    {
     "name": "stdout",
     "output_type": "stream",
     "text": [
      "Signal estimate with GARD\n",
      "[ 1.12207082 -0.98818944  1.00007066  1.04689996  0.80002825  0.91448909\n",
      "  1.1992527  -1.00538332 -0.89403163  1.11495892]\n",
      "L2 error for estimate produced by RRT-GARD=0.3587710546720715\n"
     ]
    }
   ],
   "source": [
    "results_gard_dict=robust.compute_signal_and_outlier_support(X=X, Y=Y, algorithm='GARD', alpha_list=[0.1])\n",
    "Beta_estimate=results_gard_dict[0.1]['signal_estimate']\n",
    "outlier_support_estimate=results_gard_dict[0.1]['outlier_support_estimate']\n",
    "print('Signal estimate with GARD')\n",
    "print(np.squeeze(Beta_estimate))\n",
    "l2_error=robust.compute_error(outlier_support_true=outlier_support_true, outlier_support_estimate=outlier_support_estimate, \n",
    "                              Beta_true=Beta_true, Beta_estimate=Beta_estimate)[1]\n",
    "print('L2 error for estimate produced by RRT-GARD={}'.format(l2_error))\n"
   ]
  },
  {
   "cell_type": "markdown",
   "metadata": {},
   "source": [
    "# Evaluating performance. \n",
    "\n",
    "We compare the performanc of OMP and LASSO operated using RRT against a simple baseline. An OMP algorithm operated using a priori knowledge of sparsity $k_0$. Except at low SNR, LASSO and OMP operated using RRT matches the support aware oracle. In our papers, we compare RRT with OMP and LASSO provided with many OMP and LASSO based schemes.  IN most of our experiments, we found that the performance GAP between OMP/LASSO with a priori known sparsity and noise variance and OMP/LASSO operate dusing RRT is minimal. "
   ]
  },
  {
   "cell_type": "code",
   "execution_count": 7,
   "metadata": {},
   "outputs": [],
   "source": [
    "SNR_db=np.linspace(0,30,10)\n",
    "L2_ERROR_GARD=np.zeros(10); L2_ERROR_GARD_RRT=np.zeros(10);\n",
    "L2_ERROR_LS_WITH_OUTLIER=np.zeros(10);L2_ERROR_LS_WITHOUT_OUTLIER=np.zeros(10)\n",
    "\n",
    "num_iter=100; # number of montecarlo iterations for each example. \n",
    "nsamples=100;nfeatures=10;outlier_sparsity=10;OIR_db=10 \n",
    "\n",
    "for s in np.arange(len(SNR_db)):\n",
    "    snr_db=SNR_db[s]\n",
    "    l2_error_gard=0; l2_error_gard_rrt=0;\n",
    "    l2_error_ls_with_outlier=0;l2_error_ls_without_outlier=0;\n",
    "\n",
    "    for num in np.arange(num_iter):\n",
    "        X, Y, Beta_true, outlier_support_true, outlier,inlier_noisevar=robust.generate_random_example(nsamples=nsamples, \n",
    "                                                                                                      nfeatures=nfeatures, \n",
    "                                                                                                      outlier_sparsity=outlier_sparsity, \n",
    "                                                                                                      SNR_db=snr_db,\n",
    "                                                                                                      OIR_db=OIR_db)\n",
    "        Beta_gard,outlier_support_gard=robust.GARD_prior_outlier_sparsity(X=X,Y=Y,outlier_sparsity=len(outlier_support_true))\n",
    "\n",
    "        l2_error=robust.compute_error(outlier_support_true=outlier_support_true, \n",
    "                                      outlier_support_estimate=outlier_support_gard, \n",
    "                                      Beta_true=Beta_true, Beta_estimate=Beta_gard)[1]\n",
    "        l2_error_gard+=l2_error\n",
    "        \n",
    "        results_gard_dict=robust.compute_signal_and_outlier_support(X=X, Y=Y, algorithm='GARD', alpha_list=[0.1])\n",
    "        Beta_gard_rrt=results_gard_dict[0.1]['signal_estimate']\n",
    "        outlier_support_estimate=results_gard_dict[0.1]['outlier_support_estimate']\n",
    "        l2_error=robust.compute_error(outlier_support_true=outlier_support_true, \n",
    "                                      outlier_support_estimate=outlier_support_estimate, \n",
    "                                      Beta_true=Beta_true, Beta_estimate=Beta_gard_rrt)[1]\n",
    "        \n",
    "        Beta_LS_with_outlier=robust.generate_LS_estimate_and_residual(X=X, Y=Y)[0]\n",
    "        l2_error=robust.compute_error(outlier_support_true=outlier_support_true, outlier_support_estimate=[], \n",
    "                              Beta_true=Beta_true, Beta_estimate=Beta_LS_with_outlier)[1]\n",
    "        l2_error_ls_with_outlier+=l2_error\n",
    "\n",
    "        Beta_LS_without_outlier=robust.generate_LS_estimate_and_residual(X=X, Y=Y-outlier)[0]\n",
    "\n",
    "        l2_error=robust.compute_error(outlier_support_true=outlier_support_true, \n",
    "                                      outlier_support_estimate=outlier_support_true, \n",
    "                                      Beta_true=Beta_true, Beta_estimate=Beta_LS_without_outlier)[1]\n",
    "        l2_error_ls_without_outlier+=l2_error\n",
    "        \n",
    "    L2_ERROR_GARD[s]=l2_error_gard; L2_ERROR_GARD_RRT[s]=l2_error_gard_rrt;\n",
    "    L2_ERROR_LS_WITH_OUTLIER[s]=l2_error_ls_with_outlier;\n",
    "    L2_ERROR_LS_WITHOUT_OUTLIER[s]=l2_error_ls_without_outlier"
   ]
  },
  {
   "cell_type": "code",
   "execution_count": 8,
   "metadata": {},
   "outputs": [
    {
     "data": {
      "text/plain": [
       "Text(0, 0.5, 'l2_error')"
      ]
     },
     "execution_count": 8,
     "metadata": {},
     "output_type": "execute_result"
    },
    {
     "data": {
      "image/png": "[encoded data removed]",
      "text/plain": [
       "<Figure size 432x432 with 1 Axes>"
      ]
     },
     "metadata": {
      "needs_background": "light"
     },
     "output_type": "display_data"
    }
   ],
   "source": [
    "plt.figure(figsize=(6,6))\n",
    "plt.semilogy(SNR_db,L2_ERROR_GARD,label='outlier sparsity aware GARD')\n",
    "plt.semilogy(SNR_db,L2_ERROR_GARD_RRT,label='GARD+RRT')\n",
    "plt.semilogy(SNR_db,L2_ERROR_LS_WITH_OUTLIER,label='LS estimate with outliers')\n",
    "plt.semilogy(SNR_db,L2_ERROR_LS_WITHOUT_OUTLIER,label='LS estimate without outliers')\n",
    "plt.grid()\n",
    "plt.legend()\n",
    "plt.xlabel('SNR in DB')\n",
    "plt.ylabel('l2_error')  \n"
   ]
  },
  {
   "cell_type": "code",
   "execution_count": null,
   "metadata": {},
   "outputs": [],
   "source": []
  }
 ],
 "metadata": {
  "kernelspec": {
   "display_name": "Python 3",
   "language": "python",
   "name": "python3"
  },
  "language_info": {
   "codemirror_mode": {
    "name": "ipython",
    "version": 3
   },
   "file_extension": ".py",
   "mimetype": "text/x-python",
   "name": "python",
   "nbconvert_exporter": "python",
   "pygments_lexer": "ipython3",
   "version": "3.6.10"
  }
 },
 "nbformat": 4,
 "nbformat_minor": 4
}
