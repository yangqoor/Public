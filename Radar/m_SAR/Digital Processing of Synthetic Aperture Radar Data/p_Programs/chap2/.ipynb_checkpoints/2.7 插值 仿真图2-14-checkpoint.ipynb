{
 "cells": [
  {
   "cell_type": "markdown",
   "id": "19da1fb7",
   "metadata": {},
   "source": [
    "## 2.2 线性卷积"
   ]
  },
  {
   "cell_type": "code",
   "execution_count": 7,
   "id": "a1d4db0f",
   "metadata": {},
   "outputs": [],
   "source": [
    "import numpy as np\n",
    "from scipy import signal\n",
    "import matplotlib.pyplot as plt\n",
    "plt.rcParams['font.sans-serif'] = ['FangSong'] # 指定默认字体 \n",
    "plt.rcParams['axes.unicode_minus'] = False # 解决保存图像是负号'-'显示为方块的问题 "
   ]
  },
  {
   "cell_type": "markdown",
   "id": "9794f99a",
   "metadata": {},
   "source": [
    "一维线性卷积"
   ]
  },
  {
   "cell_type": "code",
   "execution_count": 9,
   "id": "d59771cc",
   "metadata": {},
   "outputs": [
    {
     "name": "stdout",
     "output_type": "stream",
     "text": [
      "[ 1  5  8 12  9 25 22 24  8 -6]\n",
      "[ 1  5  8 12  9 25 22 24  8 -6]\n",
      "[ 1.  5.  8. 12.  9. 25. 22. 24.  8. -6.]\n"
     ]
    }
   ],
   "source": [
    "#3种卷积方法\n",
    "s = np.array([1,3,-1,5,2,6,4,-2])\n",
    "h = np.array([1,2,3])\n",
    "y = np.convolve(s,h)\n",
    "print(y)\n",
    "y = signal.convolve(s,h)\n",
    "print(y)\n",
    "y = signal.fftconvolve(s,h,mode='full') #fft算法实现卷积\n",
    "print(y)"
   ]
  },
  {
   "cell_type": "code",
   "execution_count": 10,
   "id": "3c2e566f",
   "metadata": {},
   "outputs": [
    {
     "name": "stdout",
     "output_type": "stream",
     "text": [
      "[[  2   9  20  28  31  26  16   6]\n",
      " [  9  39  85 121 132 107  62  21]\n",
      " [ 15  59 116 159 163 124  66  18]\n",
      " [ 21  71 114 124 105  76  45  14]\n",
      " [ 22  65  99 101  78  53  29   9]\n",
      " [  6  17  26  27  21  14   7   2]]\n"
     ]
    }
   ],
   "source": [
    "# 2维卷积\n",
    "s = np.array([[2,5,6,4,6],[3,6,7,8,3],[4,6,1,2,3],[6,5,4,3,2]])\n",
    "h = np.array([[1,2,2,1],[3,6,6,3],[1,2,2,1]])\n",
    "h1 = np.array([[1],[3],[1]])\n",
    "h2 = np.array([1,2,2,1])\n",
    "y = signal.convolve2d(s,h)\n",
    "print(y)"
   ]
  },
  {
   "cell_type": "code",
   "execution_count": null,
   "id": "9bb641c9",
   "metadata": {},
   "outputs": [],
   "source": []
  }
 ],
 "metadata": {
  "kernelspec": {
   "display_name": "Python 3 (ipykernel)",
   "language": "python",
   "name": "python3"
  },
  "language_info": {
   "codemirror_mode": {
    "name": "ipython",
    "version": 3
   },
   "file_extension": ".py",
   "mimetype": "text/x-python",
   "name": "python",
   "nbconvert_exporter": "python",
   "pygments_lexer": "ipython3",
   "version": "3.7.11"
  }
 },
 "nbformat": 4,
 "nbformat_minor": 5
}
