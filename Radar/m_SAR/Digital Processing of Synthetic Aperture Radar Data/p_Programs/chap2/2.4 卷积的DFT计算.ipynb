{
 "cells": [
  {
   "cell_type": "markdown",
   "id": "1ab4f54b",
   "metadata": {},
   "source": [
    "### 验证DFT做卷积和直接卷积的异同"
   ]
  },
  {
   "cell_type": "code",
   "execution_count": 15,
   "id": "e043e67e",
   "metadata": {},
   "outputs": [],
   "source": [
    "import numpy as np\n",
    "import matplotlib.pyplot as plt\n",
    "from numpy.fft import fft,ifft\n",
    "plt.rcParams['font.sans-serif'] = ['FangSong'] # 指定默认字体 \n",
    "plt.rcParams['axes.unicode_minus'] = False # 解决保存图像是负号'-'显示为方块的问题 "
   ]
  },
  {
   "cell_type": "code",
   "execution_count": 16,
   "id": "e5141965",
   "metadata": {},
   "outputs": [
    {
     "name": "stdout",
     "output_type": "stream",
     "text": [
      "x1的长度8\n",
      "x2的长度3\n",
      "直接卷积结果：\n",
      "[ 1  5  8 12  9 25 22 24  8 -6]\n",
      "直接DFT做卷积结果：\n",
      "[ 9.+0.j -1.+0.j  8.+0.j 12.+0.j  9.+0.j 25.+0.j 22.+0.j 24.+0.j]\n",
      "补零之后DFT做卷积结果：\n",
      "[ 1.-6.66133815e-17j  5.+1.13242749e-15j  8.+3.30592083e-16j\n",
      " 12.-4.18883953e-16j  9.-4.63818846e-16j 25.+2.77323422e-16j\n",
      " 22.-4.63818846e-16j 24.-1.07420918e-15j  8.+3.30592083e-16j\n",
      " -6.+4.16409129e-16j]\n"
     ]
    }
   ],
   "source": [
    "#% 数据设置\n",
    "x1 = np.array([ 1,3,-1,5,2,6,4,-2])\n",
    "x2 = np.array([ 1,2,3])\n",
    "\n",
    "#% 提取数据长度\n",
    "N1 = x1.size\n",
    "N2 = x2.size\n",
    "print( \"x1的长度\"+str(N1) )\n",
    "print( \"x2的长度\"+str(N2) )\n",
    "\n",
    "#% 直接做卷积\n",
    "result1 = np.convolve(x1,x2)\n",
    "#% 显示结果\n",
    "print('直接卷积结果：')\n",
    "print( result1 )\n",
    "\n",
    "#% 直接DFT做卷积\n",
    "N = max(N1,N2)\n",
    "result2 = ifft( fft( x1, N )*fft( x2, N ) )\n",
    "#% 显示结果\n",
    "print('直接DFT做卷积结果：')\n",
    "print( result2 )\n",
    "\n",
    "# 补零之后 DFT做卷积\n",
    "NN = N1 + N2 - 1\n",
    "bit = int (np.ceil( np.log2(NN) ))\n",
    "len = 2**bit\n",
    "result3 = ifft( fft( x1, NN )*fft( x2, NN ) )\n",
    "#% 提取result3的前面N1+N2-1个数据\n",
    "result3 = result3[:N1+N2]\n",
    "#% 显示结果\n",
    "print('补零之后DFT做卷积结果：')\n",
    "print( result3 )"
   ]
  },
  {
   "cell_type": "code",
   "execution_count": null,
   "id": "bc5c1924",
   "metadata": {},
   "outputs": [],
   "source": []
  },
  {
   "cell_type": "code",
   "execution_count": null,
   "id": "52100abd",
   "metadata": {},
   "outputs": [],
   "source": []
  }
 ],
 "metadata": {
  "kernelspec": {
   "display_name": "Python 3 (ipykernel)",
   "language": "python",
   "name": "python3"
  },
  "language_info": {
   "codemirror_mode": {
    "name": "ipython",
    "version": 3
   },
   "file_extension": ".py",
   "mimetype": "text/x-python",
   "name": "python",
   "nbconvert_exporter": "python",
   "pygments_lexer": "ipython3",
   "version": "3.7.11"
  }
 },
 "nbformat": 4,
 "nbformat_minor": 5
}
