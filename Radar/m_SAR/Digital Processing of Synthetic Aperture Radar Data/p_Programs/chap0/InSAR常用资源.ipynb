{
 "cells": [
  {
   "cell_type": "markdown",
   "id": "38b01015",
   "metadata": {},
   "source": [
    "最近收集的一些资源，今后将不断更新..."
   ]
  },
  {
   "cell_type": "markdown",
   "id": "7b437640",
   "metadata": {},
   "source": [
    "## SAR常用资源"
   ]
  },
  {
   "cell_type": "code",
   "execution_count": null,
   "id": "8204b555",
   "metadata": {},
   "outputs": [],
   "source": [
    "万花筒 https://github.com/RadarCODE/awesome-sar\n",
    "SAR（遥感、卫星） 图像常用数据集 https://blog.csdn.net/qq_38410428/article/details/103645212"
   ]
  },
  {
   "cell_type": "markdown",
   "id": "f47beaa7",
   "metadata": {},
   "source": [
    "## InSAR 常用资源\n",
    "\n",
    "INSAR相关知识  https://blog.csdn.net/weixin_44703583/article/details/116712237\n",
    "\n",
    "高人回答 https://www.zhihu.com/question/67098162\n",
    "\n",
    "以下是几个开源地址，以后逐一解读\n",
    "https://github.com/isce-framework/isce2\n",
    "https://geoscienceaustralia.github.io/PyRate/\n",
    "https://github.com/hfattahi/PySAR\n",
    "https://github.com/InSAR-invert\n"
   ]
  }
 ],
 "metadata": {
  "kernelspec": {
   "display_name": "Python 3 (ipykernel)",
   "language": "python",
   "name": "python3"
  },
  "language_info": {
   "codemirror_mode": {
    "name": "ipython",
    "version": 3
   },
   "file_extension": ".py",
   "mimetype": "text/x-python",
   "name": "python",
   "nbconvert_exporter": "python",
   "pygments_lexer": "ipython3",
   "version": "3.7.11"
  }
 },
 "nbformat": 4,
 "nbformat_minor": 5
}
