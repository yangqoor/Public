{
 "cells": [
  {
   "cell_type": "markdown",
   "id": "07bb4b90",
   "metadata": {},
   "source": [
    "信号处理避免不了的是向量运算，numpy是必备品之一。\n",
    "\n",
    "如下用于导入numpy"
   ]
  },
  {
   "cell_type": "code",
   "execution_count": 1,
   "id": "96a113b5",
   "metadata": {},
   "outputs": [],
   "source": [
    "import numpy as np\n"
   ]
  },
  {
   "cell_type": "markdown",
   "id": "1e64bde1",
   "metadata": {},
   "source": [
    "## 1. 数组的初始化\n"
   ]
  },
  {
   "cell_type": "code",
   "execution_count": 2,
   "id": "68d030bc",
   "metadata": {},
   "outputs": [
    {
     "name": "stdout",
     "output_type": "stream",
     "text": [
      "[1 2 3 4] int32\n",
      "[1. 2. 3. 4.] float64\n",
      "[[1. 2.]\n",
      " [3. 4.]] float64\n",
      "[[1.+0.j 2.+0.j]\n",
      " [3.+0.j 4.+0.j]] complex128\n"
     ]
    }
   ],
   "source": [
    "#通常的初始值\n",
    "#一维数组\n",
    "a=np.array([1,2,3,4])\n",
    "b=np.array([1.,2.,3.,4.])\n",
    "#二维数组\n",
    "c=np.array([[1.,2.],[3.,4.]])\n",
    "d=np.array([[1,2],[3,4]],dtype=complex)\n",
    "\n",
    "print(a,a.dtype)\n",
    "print(b,b.dtype)\n",
    "print(c,c.dtype)\n",
    "print(d,d.dtype)"
   ]
  },
  {
   "cell_type": "code",
   "execution_count": 3,
   "id": "a4557955",
   "metadata": {},
   "outputs": [
    {
     "data": {
      "text/plain": [
       "array([0., 1., 2., 3., 4., 5., 6., 7., 8., 9.])"
      ]
     },
     "execution_count": 3,
     "metadata": {},
     "output_type": "execute_result"
    }
   ],
   "source": [
    "#利用函数进行初始化\n",
    "np.arange(0,10,1,dtype=float) #arange函数创建"
   ]
  },
  {
   "cell_type": "code",
   "execution_count": 4,
   "id": "95c1e067",
   "metadata": {},
   "outputs": [
    {
     "data": {
      "text/plain": [
       "array([[1, 1, 1, 1],\n",
       "       [1, 1, 1, 1],\n",
       "       [1, 1, 1, 1]])"
      ]
     },
     "execution_count": 4,
     "metadata": {},
     "output_type": "execute_result"
    }
   ],
   "source": [
    "np.ones((3,4),dtype=int) #创建3行4列的全是1的数据"
   ]
  },
  {
   "cell_type": "code",
   "execution_count": 5,
   "id": "8a748f3c",
   "metadata": {},
   "outputs": [
    {
     "data": {
      "text/plain": [
       "array([[0., 0., 0., 0.],\n",
       "       [0., 0., 0., 0.],\n",
       "       [0., 0., 0., 0.]])"
      ]
     },
     "execution_count": 5,
     "metadata": {},
     "output_type": "execute_result"
    }
   ],
   "source": [
    "np.zeros((3,4),dtype=float) #创建3行4列的全是0的浮点数"
   ]
  },
  {
   "cell_type": "code",
   "execution_count": 6,
   "id": "5f73c52b",
   "metadata": {},
   "outputs": [
    {
     "data": {
      "text/plain": [
       "array([-1. , -0.9, -0.8, -0.7, -0.6, -0.5, -0.4, -0.3, -0.2, -0.1,  0. ,\n",
       "        0.1,  0.2,  0.3,  0.4,  0.5,  0.6,  0.7,  0.8,  0.9,  1. ,  1.1,\n",
       "        1.2,  1.3,  1.4,  1.5,  1.6,  1.7,  1.8,  1.9,  2. ])"
      ]
     },
     "execution_count": 6,
     "metadata": {},
     "output_type": "execute_result"
    }
   ],
   "source": [
    "np.linspace(-1,2,31) #起点为-1，终点为2，取31个数（包含两个端点）"
   ]
  },
  {
   "cell_type": "code",
   "execution_count": 7,
   "id": "6063caba",
   "metadata": {},
   "outputs": [
    {
     "data": {
      "text/plain": [
       "array([-1.00000000e+00, -9.00000000e-01, -8.00000000e-01, -7.00000000e-01,\n",
       "       -6.00000000e-01, -5.00000000e-01, -4.00000000e-01, -3.00000000e-01,\n",
       "       -2.00000000e-01, -1.00000000e-01, -2.22044605e-16,  1.00000000e-01,\n",
       "        2.00000000e-01,  3.00000000e-01,  4.00000000e-01,  5.00000000e-01,\n",
       "        6.00000000e-01,  7.00000000e-01,  8.00000000e-01,  9.00000000e-01,\n",
       "        1.00000000e+00,  1.10000000e+00,  1.20000000e+00,  1.30000000e+00,\n",
       "        1.40000000e+00,  1.50000000e+00,  1.60000000e+00,  1.70000000e+00,\n",
       "        1.80000000e+00,  1.90000000e+00])"
      ]
     },
     "execution_count": 7,
     "metadata": {},
     "output_type": "execute_result"
    }
   ],
   "source": [
    "np.arange(-1,2,0.1) #起点为-1，步长为0.1，终点小于2，"
   ]
  },
  {
   "cell_type": "markdown",
   "id": "29c4e6ad",
   "metadata": {},
   "source": [
    "## 2. 数据的更改"
   ]
  },
  {
   "cell_type": "code",
   "execution_count": 8,
   "id": "31c5f21f",
   "metadata": {},
   "outputs": [
    {
     "name": "stdout",
     "output_type": "stream",
     "text": [
      "[0.  0.1 0.2 0.3 0.4 0.5 0.6 0.7 7.3 0.9]\n"
     ]
    }
   ],
   "source": [
    "#直接对单个数据进行赋值\n",
    "a = np.arange(0,1,0.1) \n",
    "a[8] = 7.3\n",
    "print( a )"
   ]
  },
  {
   "cell_type": "code",
   "execution_count": 9,
   "id": "45cd78bb",
   "metadata": {},
   "outputs": [
    {
     "name": "stdout",
     "output_type": "stream",
     "text": [
      "[ 0.  10.  10.  10.   0.4  0.5  0.6  0.7  7.3  0.9]\n"
     ]
    }
   ],
   "source": [
    "a[1:4]=10.0 #批量赋值 从1号到3号，不包括4号\n",
    "print( a )"
   ]
  },
  {
   "cell_type": "code",
   "execution_count": 10,
   "id": "78d5d85d",
   "metadata": {},
   "outputs": [
    {
     "name": "stdout",
     "output_type": "stream",
     "text": [
      "[  0.   100.   100.   100.     0.16   0.25   0.36   0.49  53.29   0.81]\n"
     ]
    }
   ],
   "source": [
    "b = a**2  #每一个元素的平方\n",
    "print(b)"
   ]
  },
  {
   "cell_type": "code",
   "execution_count": 11,
   "id": "ce694f38",
   "metadata": {},
   "outputs": [
    {
     "name": "stdout",
     "output_type": "stream",
     "text": [
      "[0.0, 3.1622776601683795, 3.1622776601683795, 3.1622776601683795, 0.6324555320336759, 0.7071067811865476, 0.7745966692414834, 0.8366600265340756, 2.701851217221259, 0.9486832980505138]\n"
     ]
    }
   ],
   "source": [
    "b=[np.sqrt(np.abs(i)) for i in a] #通过a循环遍历赋值\n",
    "print(b)"
   ]
  },
  {
   "cell_type": "markdown",
   "id": "66e38183",
   "metadata": {},
   "source": [
    "## 3. 函数运算"
   ]
  },
  {
   "cell_type": "code",
   "execution_count": 12,
   "id": "71dd7753",
   "metadata": {},
   "outputs": [
    {
     "name": "stdout",
     "output_type": "stream",
     "text": [
      "[0 1 2 3]\n"
     ]
    }
   ],
   "source": [
    "## 常用函数，元素级\n",
    "a=np.array([0,1,2,3])\n",
    "print(a)\n"
   ]
  },
  {
   "cell_type": "code",
   "execution_count": 13,
   "id": "30660723",
   "metadata": {},
   "outputs": [
    {
     "name": "stdout",
     "output_type": "stream",
     "text": [
      "[0.         1.         1.41421356 1.73205081]\n",
      "[ 1.          2.71828183  7.3890561  20.08553692]\n",
      "[      -inf 0.         0.30103    0.47712125]\n"
     ]
    },
    {
     "name": "stderr",
     "output_type": "stream",
     "text": [
      "d:\\anaconda3\\envs\\stock\\lib\\site-packages\\ipykernel_launcher.py:3: RuntimeWarning: divide by zero encountered in log10\n",
      "  This is separate from the ipykernel package so we can avoid doing imports until\n"
     ]
    }
   ],
   "source": [
    "b = np.sqrt(a)\n",
    "c = np.exp(a)\n",
    "d = np.log10(a)\n",
    "print(b)\n",
    "print(c)\n",
    "print(d)"
   ]
  },
  {
   "cell_type": "code",
   "execution_count": 14,
   "id": "b40c9a5b",
   "metadata": {},
   "outputs": [
    {
     "name": "stdout",
     "output_type": "stream",
     "text": [
      "[[5 3 7]\n",
      " [0 8 3]]\n",
      "26 [ 5 11 10] [ 5 11 10]\n",
      "4.333333333333333 [3 0] [1.63299316 3.29983165]\n"
     ]
    },
    {
     "data": {
      "text/plain": [
       "4.0"
      ]
     },
     "execution_count": 14,
     "metadata": {},
     "output_type": "execute_result"
    }
   ],
   "source": [
    "## 统计\n",
    "#均值\n",
    "a=np.random.randint(0,10,(2,3))\n",
    "print(a)\n",
    "print(a.sum(),a.sum(0),a.sum(axis=0)) #分别对矩阵和列求和\n",
    "print(a.mean(),a.min(1),a.std(1)) #分别对矩阵和行求均值、最小值及标准差\n",
    "np.median(a) #求中位数\n"
   ]
  },
  {
   "cell_type": "code",
   "execution_count": 15,
   "id": "b7f6ece2",
   "metadata": {},
   "outputs": [
    {
     "name": "stdout",
     "output_type": "stream",
     "text": [
      "[[1 2]\n",
      " [3 4]] \n",
      " [[0 1 2]\n",
      " [3 4 5]]\n"
     ]
    },
    {
     "data": {
      "text/plain": [
       "array([[ 6,  9, 12],\n",
       "       [12, 19, 26]])"
      ]
     },
     "execution_count": 15,
     "metadata": {},
     "output_type": "execute_result"
    }
   ],
   "source": [
    "## 二维矩阵运算\n",
    "a=np.array([[1,2],[3,4]])\n",
    "b=np.arange(6).reshape(2,-1) #生成2行矩阵\n",
    "print(a,'\\n',b)\n",
    "a.dot(b) #矩阵的乘法"
   ]
  },
  {
   "cell_type": "markdown",
   "id": "b1a64927",
   "metadata": {},
   "source": [
    "# 4. 切片"
   ]
  },
  {
   "cell_type": "code",
   "execution_count": 16,
   "id": "44f8e73f",
   "metadata": {},
   "outputs": [
    {
     "name": "stdout",
     "output_type": "stream",
     "text": [
      "[ 0  1  4  9 16 25 36 49 64 81]\n"
     ]
    }
   ],
   "source": [
    "a=np.arange(0,10,1)**2\n",
    "print(a)"
   ]
  },
  {
   "cell_type": "code",
   "execution_count": 17,
   "id": "adff2fa5",
   "metadata": {},
   "outputs": [
    {
     "name": "stdout",
     "output_type": "stream",
     "text": [
      "[ 9 16 25 36 49]\n"
     ]
    }
   ],
   "source": [
    "b = a[3:-2] #切片取值\n",
    "print(b)\n"
   ]
  },
  {
   "cell_type": "code",
   "execution_count": 18,
   "id": "84a0d57a",
   "metadata": {},
   "outputs": [
    {
     "name": "stdout",
     "output_type": "stream",
     "text": [
      "[[ 0  1  2  3  4]\n",
      " [ 5  6  7  8  9]\n",
      " [10 11 12 13 14]\n",
      " [15 16 17 18 19]]\n",
      "第二行： [5 6 7 8 9] \n",
      "二到四列：\n",
      " [[ 1  2  3]\n",
      " [ 6  7  8]\n",
      " [11 12 13]\n",
      " [16 17 18]] \n",
      "二到四行的第三列 [ 7 12 17] \n",
      "第二行： [5 6 7 8 9]\n"
     ]
    }
   ],
   "source": [
    "c=np.arange(0,20,1).reshape(4,-1)\n",
    "print(c)\n",
    "print('第二行：',c[1],'\\n二到四列：\\n',c[:,1:4],'\\n二到四行的第三列',c[1:4,2],\n",
    "      '\\n第二行：',c[1,:])"
   ]
  },
  {
   "cell_type": "markdown",
   "id": "cd9a1fc0",
   "metadata": {},
   "source": [
    "# 5. 形状操作"
   ]
  },
  {
   "cell_type": "code",
   "execution_count": 19,
   "id": "b516551e",
   "metadata": {},
   "outputs": [
    {
     "data": {
      "text/plain": [
       "array([[0.35261262, 0.19412213, 0.76780352],\n",
       "       [0.03731068, 0.98697434, 0.03781844],\n",
       "       [0.66644918, 0.2955909 , 0.45633486],\n",
       "       [0.16569301, 0.86774756, 0.88019716]])"
      ]
     },
     "execution_count": 19,
     "metadata": {},
     "output_type": "execute_result"
    }
   ],
   "source": [
    "a=np.random.random((4,3)) #随机产生大小在0-1之间的4行3列的数\n",
    "a"
   ]
  },
  {
   "cell_type": "code",
   "execution_count": 20,
   "id": "cb02f810",
   "metadata": {},
   "outputs": [
    {
     "data": {
      "text/plain": [
       "array([[0.35261262, 0.19412213, 0.76780352, 0.03731068],\n",
       "       [0.98697434, 0.03781844, 0.66644918, 0.2955909 ],\n",
       "       [0.45633486, 0.16569301, 0.86774756, 0.88019716]])"
      ]
     },
     "execution_count": 20,
     "metadata": {},
     "output_type": "execute_result"
    }
   ],
   "source": [
    "a.shape = (3,4) #改成3行4列\n",
    "a"
   ]
  },
  {
   "cell_type": "code",
   "execution_count": 21,
   "id": "a7429f3c",
   "metadata": {},
   "outputs": [
    {
     "data": {
      "text/plain": [
       "array([[0.35261262, 0.19412213],\n",
       "       [0.76780352, 0.03731068],\n",
       "       [0.98697434, 0.03781844],\n",
       "       [0.66644918, 0.2955909 ],\n",
       "       [0.45633486, 0.16569301],\n",
       "       [0.86774756, 0.88019716]])"
      ]
     },
     "execution_count": 21,
     "metadata": {},
     "output_type": "execute_result"
    }
   ],
   "source": [
    "a.shape=(6,-1)\n",
    "a"
   ]
  },
  {
   "cell_type": "code",
   "execution_count": 22,
   "id": "f6777b25",
   "metadata": {},
   "outputs": [
    {
     "data": {
      "text/plain": [
       "array([[0.35261262, 0.76780352, 0.98697434, 0.66644918, 0.45633486,\n",
       "        0.86774756],\n",
       "       [0.19412213, 0.03731068, 0.03781844, 0.2955909 , 0.16569301,\n",
       "        0.88019716]])"
      ]
     },
     "execution_count": 22,
     "metadata": {},
     "output_type": "execute_result"
    }
   ],
   "source": [
    "b = a.transpose() #转置\n",
    "b"
   ]
  },
  {
   "cell_type": "markdown",
   "id": "802bc7a9",
   "metadata": {},
   "source": [
    "# 6.条件判断"
   ]
  },
  {
   "cell_type": "code",
   "execution_count": 23,
   "id": "442ff9fe",
   "metadata": {},
   "outputs": [
    {
     "data": {
      "text/plain": [
       "array([[0.14624924, 0.1211069 , 0.89362532],\n",
       "       [0.35890214, 0.16400313, 0.30612201],\n",
       "       [0.33679027, 0.68496006, 0.44334427],\n",
       "       [0.02648161, 0.03658537, 0.03506714]])"
      ]
     },
     "execution_count": 23,
     "metadata": {},
     "output_type": "execute_result"
    }
   ],
   "source": [
    "a = np.random.random((4,3))\n",
    "a"
   ]
  },
  {
   "cell_type": "code",
   "execution_count": 24,
   "id": "211f5a28",
   "metadata": {},
   "outputs": [
    {
     "data": {
      "text/plain": [
       "array([[0, 0, 1],\n",
       "       [0, 0, 0],\n",
       "       [0, 1, 0],\n",
       "       [0, 0, 0]])"
      ]
     },
     "execution_count": 24,
     "metadata": {},
     "output_type": "execute_result"
    }
   ],
   "source": [
    "b = np.where(a>0.5,1,0) # 条件成立时为1，否则为0\n",
    "b"
   ]
  },
  {
   "cell_type": "markdown",
   "id": "7c6a85ea",
   "metadata": {},
   "source": [
    "# 7.排序"
   ]
  },
  {
   "cell_type": "code",
   "execution_count": 25,
   "id": "2812db3d",
   "metadata": {},
   "outputs": [
    {
     "name": "stdout",
     "output_type": "stream",
     "text": [
      "[[0 2 1 3]\n",
      " [2 0 3 1]\n",
      " [1 2 3 0]]\n",
      "[[3 1 2 0]\n",
      " [1 3 0 2]\n",
      " [0 3 2 1]]\n"
     ]
    }
   ],
   "source": [
    "A = np.array([[1, 3, 2, 7],\n",
    "                    [2, 4, 1, 3],\n",
    "                    [6, 1, 2, 3]])\n",
    "print( np.argsort(A) )\n",
    "print( np.argsort(-A) )"
   ]
  },
  {
   "cell_type": "code",
   "execution_count": 26,
   "id": "647a075a",
   "metadata": {},
   "outputs": [
    {
     "name": "stdout",
     "output_type": "stream",
     "text": [
      "[71 49 44 35 27 13  7]\n"
     ]
    }
   ],
   "source": [
    "import numpy as np \n",
    "the_array = np.array([49, 7, 44, 27, 13, 35, 71]) \n",
    "sort_array = np.sort(the_array)[::-1]\n",
    "print(sort_array)"
   ]
  },
  {
   "cell_type": "code",
   "execution_count": null,
   "id": "81a32d12",
   "metadata": {},
   "outputs": [],
   "source": []
  }
 ],
 "metadata": {
  "kernelspec": {
   "display_name": "Python 3 (ipykernel)",
   "language": "python",
   "name": "python3"
  },
  "language_info": {
   "codemirror_mode": {
    "name": "ipython",
    "version": 3
   },
   "file_extension": ".py",
   "mimetype": "text/x-python",
   "name": "python",
   "nbconvert_exporter": "python",
   "pygments_lexer": "ipython3",
   "version": "3.7.11"
  }
 },
 "nbformat": 4,
 "nbformat_minor": 5
}
